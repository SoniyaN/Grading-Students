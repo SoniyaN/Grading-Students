{
 "cells": [
  {
   "cell_type": "code",
   "execution_count": 1,
   "metadata": {},
   "outputs": [
    {
     "name": "stdout",
     "output_type": "stream",
     "text": [
      "Enter the total number of grades 5\n",
      "Enter the grade 67\n",
      "Enter the grade 89\n",
      "Enter the grade 34\n",
      "Enter the grade 98\n",
      "Enter the grade 54\n",
      "The rounded grades are as follows \n",
      "67\n",
      "90\n",
      "34\n",
      "100\n",
      "55\n"
     ]
    }
   ],
   "source": [
    "def gradingStudents(grades):    \n",
    "    for i in range (0,n):\n",
    "            int(i)\n",
    "            if grades[i]>37:\n",
    "                z=grades[i]\n",
    "                while(z%5 != 0):\n",
    "                    z=z+1   \n",
    "                if (z-grades[i])<3:\n",
    "                    grades[i]=z\n",
    "            print(grades[i])   \n",
    "            \n",
    "n=int(input(\"Enter the total number of grades \")) \n",
    "grades=list()\n",
    "for grade in range(0,n):\n",
    "    x=int(input(\"Enter the grade \")) \n",
    "    grades.append(x) \n",
    "print(\"The rounded grades are as follows \")    \n",
    "gradingStudents(grades)        "
   ]
  },
  {
   "cell_type": "code",
   "execution_count": null,
   "metadata": {},
   "outputs": [],
   "source": []
  }
 ],
 "metadata": {
  "kernelspec": {
   "display_name": "Python 3",
   "language": "python",
   "name": "python3"
  },
  "language_info": {
   "codemirror_mode": {
    "name": "ipython",
    "version": 3
   },
   "file_extension": ".py",
   "mimetype": "text/x-python",
   "name": "python",
   "nbconvert_exporter": "python",
   "pygments_lexer": "ipython3",
   "version": "3.6.5"
  }
 },
 "nbformat": 4,
 "nbformat_minor": 2
}
